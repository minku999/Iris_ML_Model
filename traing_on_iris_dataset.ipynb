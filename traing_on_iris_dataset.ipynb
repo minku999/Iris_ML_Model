{
 "cells": [
  {
   "cell_type": "code",
   "execution_count": 1,
   "id": "ef3063b7-1039-4b91-bea3-2e87501c594c",
   "metadata": {},
   "outputs": [],
   "source": [
    "import pandas as pd\n",
    "from sklearn.ensemble import RandomForestClassifier"
   ]
  },
  {
   "cell_type": "code",
   "execution_count": 2,
   "id": "a67a5485-6724-4497-9b7a-57b7426ff85e",
   "metadata": {},
   "outputs": [],
   "source": [
    "data = pd.read_excel('iris-train.xlsx')"
   ]
  },
  {
   "cell_type": "code",
   "execution_count": 3,
   "id": "52bf3c8c-d5dc-4c96-8d73-28b0eb3183b6",
   "metadata": {},
   "outputs": [
    {
     "data": {
      "text/html": [
       "<div>\n",
       "<style scoped>\n",
       "    .dataframe tbody tr th:only-of-type {\n",
       "        vertical-align: middle;\n",
       "    }\n",
       "\n",
       "    .dataframe tbody tr th {\n",
       "        vertical-align: top;\n",
       "    }\n",
       "\n",
       "    .dataframe thead th {\n",
       "        text-align: right;\n",
       "    }\n",
       "</style>\n",
       "<table border=\"1\" class=\"dataframe\">\n",
       "  <thead>\n",
       "    <tr style=\"text-align: right;\">\n",
       "      <th></th>\n",
       "      <th>sepallength</th>\n",
       "      <th>sepalwidth</th>\n",
       "      <th>petallength</th>\n",
       "      <th>petalwidth</th>\n",
       "      <th>class</th>\n",
       "    </tr>\n",
       "  </thead>\n",
       "  <tbody>\n",
       "    <tr>\n",
       "      <th>0</th>\n",
       "      <td>7.9</td>\n",
       "      <td>3.8</td>\n",
       "      <td>6.4</td>\n",
       "      <td>2.0</td>\n",
       "      <td>Iris-virginica</td>\n",
       "    </tr>\n",
       "    <tr>\n",
       "      <th>1</th>\n",
       "      <td>7.7</td>\n",
       "      <td>3.8</td>\n",
       "      <td>6.7</td>\n",
       "      <td>2.2</td>\n",
       "      <td>Iris-virginica</td>\n",
       "    </tr>\n",
       "    <tr>\n",
       "      <th>2</th>\n",
       "      <td>7.7</td>\n",
       "      <td>3.0</td>\n",
       "      <td>6.1</td>\n",
       "      <td>2.3</td>\n",
       "      <td>Iris-virginica</td>\n",
       "    </tr>\n",
       "    <tr>\n",
       "      <th>3</th>\n",
       "      <td>7.7</td>\n",
       "      <td>2.8</td>\n",
       "      <td>6.7</td>\n",
       "      <td>2.0</td>\n",
       "      <td>Iris-virginica</td>\n",
       "    </tr>\n",
       "    <tr>\n",
       "      <th>4</th>\n",
       "      <td>7.7</td>\n",
       "      <td>2.6</td>\n",
       "      <td>6.9</td>\n",
       "      <td>2.3</td>\n",
       "      <td>Iris-virginica</td>\n",
       "    </tr>\n",
       "  </tbody>\n",
       "</table>\n",
       "</div>"
      ],
      "text/plain": [
       "   sepallength  sepalwidth  petallength  petalwidth           class\n",
       "0          7.9         3.8          6.4         2.0  Iris-virginica\n",
       "1          7.7         3.8          6.7         2.2  Iris-virginica\n",
       "2          7.7         3.0          6.1         2.3  Iris-virginica\n",
       "3          7.7         2.8          6.7         2.0  Iris-virginica\n",
       "4          7.7         2.6          6.9         2.3  Iris-virginica"
      ]
     },
     "execution_count": 3,
     "metadata": {},
     "output_type": "execute_result"
    }
   ],
   "source": [
    "data.head()"
   ]
  },
  {
   "cell_type": "code",
   "execution_count": 4,
   "id": "59c7d12c-9b5d-429b-90e7-5810f2359dda",
   "metadata": {},
   "outputs": [],
   "source": [
    "x = data.iloc[:,:-1]\n",
    "y  = data.iloc[:,-1]"
   ]
  },
  {
   "cell_type": "code",
   "execution_count": 5,
   "id": "4c7c911a-977c-47b6-955a-9c6e463b0a1b",
   "metadata": {},
   "outputs": [],
   "source": [
    "model = RandomForestClassifier()\n",
    "model = model.fit(x.values,y.values)"
   ]
  },
  {
   "cell_type": "code",
   "execution_count": 6,
   "id": "9092dcb5-f807-47ad-ab77-163df19e8b64",
   "metadata": {},
   "outputs": [],
   "source": [
    "predictions = model.predict([[5.3,\t3.7\t,1.5,\t0.2]])"
   ]
  },
  {
   "cell_type": "code",
   "execution_count": 7,
   "id": "2e0aa179-b86d-471f-9d6a-ad336277309c",
   "metadata": {},
   "outputs": [
    {
     "data": {
      "text/plain": [
       "array(['Iris-setosa'], dtype=object)"
      ]
     },
     "execution_count": 7,
     "metadata": {},
     "output_type": "execute_result"
    }
   ],
   "source": [
    "predictions"
   ]
  },
  {
   "cell_type": "code",
   "execution_count": 8,
   "id": "0461918c-d43b-4820-baa5-ae4a1f55c78f",
   "metadata": {},
   "outputs": [
    {
     "data": {
      "text/plain": [
       "array(['Iris-versicolor'], dtype=object)"
      ]
     },
     "execution_count": 8,
     "metadata": {},
     "output_type": "execute_result"
    }
   ],
   "source": [
    "model.predict([[5,\t2.3,\t3.3,\t1]])\n"
   ]
  },
  {
   "cell_type": "markdown",
   "id": "02c65635-4969-4139-af11-65033789f114",
   "metadata": {},
   "source": [
    "Let's Predict an entire dataset "
   ]
  },
  {
   "cell_type": "markdown",
   "id": "44ed0ca6-822a-47fb-a4a3-0822fcd38361",
   "metadata": {},
   "source": [
    "data_test = pd.read_excel('iris-test.xlsx')\n",
    "data_test.head()"
   ]
  },
  {
   "cell_type": "code",
   "execution_count": 25,
   "id": "20997202-b37a-496c-893b-16bc745d90dd",
   "metadata": {},
   "outputs": [
    {
     "data": {
      "text/plain": [
       "array(['Iris-versicolor', 'Iris-setosa', 'Iris-setosa', 'Iris-setosa',\n",
       "       'Iris-setosa', 'Iris-versicolor', 'Iris-setosa', 'Iris-setosa',\n",
       "       'Iris-setosa', 'Iris-setosa', 'Iris-setosa', 'Iris-setosa',\n",
       "       'Iris-setosa', 'Iris-setosa', 'Iris-versicolor', 'Iris-setosa',\n",
       "       'Iris-setosa', 'Iris-setosa', 'Iris-setosa', 'Iris-setosa',\n",
       "       'Iris-setosa', 'Iris-setosa', 'Iris-setosa', 'Iris-versicolor',\n",
       "       'Iris-versicolor', 'Iris-setosa', 'Iris-setosa', 'Iris-setosa',\n",
       "       'Iris-setosa', 'Iris-versicolor', 'Iris-versicolor', 'Iris-setosa',\n",
       "       'Iris-setosa', 'Iris-setosa'], dtype=object)"
      ]
     },
     "execution_count": 25,
     "metadata": {},
     "output_type": "execute_result"
    }
   ],
   "source": [
    "x_test = data_test.iloc[:,:-1]\n",
    "y_test = data_test.iloc[:,-1]\n",
    "data_prediction = model.predict(x_test.values)\n",
    "data_prediction"
   ]
  },
  {
   "cell_type": "markdown",
   "id": "c03cddda-f7eb-439d-b420-4338f7487e6f",
   "metadata": {},
   "source": [
    "Now, We have to find Our Model Accuracy "
   ]
  },
  {
   "cell_type": "code",
   "execution_count": null,
   "id": "fcbb019f-292f-455d-9c93-046757d3583a",
   "metadata": {},
   "outputs": [
    {
     "name": "stdout",
     "output_type": "stream",
     "text": [
      "The Total Accuracy Of your Model is 97.05882352941177\n"
     ]
    }
   ],
   "source": [
    "count = 0\n",
    "for i in range(len(y_test)):\n",
    "    if data_prediction[i] == y_test[i]:\n",
    "        count += 1\n",
    "print(f\"The Total Accuracy Of your Model is {(count * 100)/len(y_test)}\")"
   ]
  },
  {
   "cell_type": "code",
   "execution_count": null,
   "id": "06fac2d5-9a75-4d8d-8f90-6aef2e842a8d",
   "metadata": {},
   "outputs": [],
   "source": []
  }
 ],
 "metadata": {
  "kernelspec": {
   "display_name": "Python 3 (ipykernel)",
   "language": "python",
   "name": "python3"
  },
  "language_info": {
   "codemirror_mode": {
    "name": "ipython",
    "version": 3
   },
   "file_extension": ".py",
   "mimetype": "text/x-python",
   "name": "python",
   "nbconvert_exporter": "python",
   "pygments_lexer": "ipython3",
   "version": "3.12.7"
  }
 },
 "nbformat": 4,
 "nbformat_minor": 5
}
